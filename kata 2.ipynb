{
 "cells": [
  {
   "cell_type": "code",
   "execution_count": null,
   "metadata": {},
   "outputs": [],
   "source": [
    "python3 -m venv env \n",
    "env\\Scripts\\activate\n",
    "pip freeze\n",
    "pip install python-dateutil\n",
    "pip freeze\n",
    "deactivate"
   ]
  }
 ],
 "metadata": {
  "interpreter": {
   "hash": "7c239c9e803aa87c3815454c42da92f1af28c0cbd1b711d488a058e58bc0122e"
  },
  "kernelspec": {
   "display_name": "Python 3.9.5 64-bit",
   "language": "python",
   "name": "python3"
  },
  "language_info": {
   "codemirror_mode": {
    "name": "ipython",
    "version": 3
   },
   "file_extension": ".py",
   "mimetype": "text/x-python",
   "name": "python",
   "nbconvert_exporter": "python",
   "pygments_lexer": "ipython3",
   "version": "3.9.5"
  },
  "orig_nbformat": 4
 },
 "nbformat": 4,
 "nbformat_minor": 2
}
